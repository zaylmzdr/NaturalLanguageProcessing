{
  "cells": [
    {
      "cell_type": "code",
      "execution_count": 1,
      "metadata": {
        "id": "b5LTJuhm2Ndh",
        "outputId": "381a6555-8858-4c9f-923e-260c19e5b8a9",
        "colab": {
          "base_uri": "https://localhost:8080/"
        }
      },
      "outputs": [
        {
          "output_type": "stream",
          "name": "stdout",
          "text": [
            "Hello World!\n"
          ]
        }
      ],
      "source": [
        "print(\"Hello World!\")"
      ]
    },
    {
      "cell_type": "code",
      "execution_count": 2,
      "metadata": {
        "id": "dOknCcTJ2Ndk",
        "outputId": "870cf10b-56de-4194-9ae2-d1d370047bd9",
        "colab": {
          "base_uri": "https://localhost:8080/"
        }
      },
      "outputs": [
        {
          "output_type": "stream",
          "name": "stdout",
          "text": [
            "3 A test 13.987847222222221\n",
            "s'nin değeri: Değerler a: 3, b: A\n"
          ]
        }
      ],
      "source": [
        "a = 3\n",
        "b = 'A'\n",
        "c = \"test\"\n",
        "d = 5 + 9 - 3 * 7 / 12 ** 3\n",
        "\n",
        "print(a, b, c, d)\n",
        "s = f\"Değerler a: {a}, b: {b}\"\n",
        "print(f\"s'nin değeri: {s}\")"
      ]
    },
    {
      "cell_type": "code",
      "execution_count": 3,
      "metadata": {
        "id": "Ddtj5F9e2Ndk",
        "outputId": "75abf44d-613b-42bf-fd1a-c9e909971929",
        "colab": {
          "base_uri": "https://localhost:8080/"
        }
      },
      "outputs": [
        {
          "output_type": "stream",
          "name": "stdout",
          "text": [
            "[1, 2, 'hey', 'x']\n",
            "[1, 2, 'hey', 'x', 'Test']\n",
            "hey\n",
            "5\n"
          ]
        }
      ],
      "source": [
        "my_list = [1, 2, \"hey\", 'x']\n",
        "print(my_list)\n",
        "\n",
        "my_list.append(\"Test\")\n",
        "print(my_list)\n",
        "\n",
        "print(my_list[2])\n",
        "\n",
        "print(len(my_list))"
      ]
    },
    {
      "cell_type": "code",
      "execution_count": null,
      "metadata": {
        "id": "5JacWeIX2Ndl"
      },
      "outputs": [],
      "source": [
        "kelimeler = \"Hey ho lets go\".split()\n",
        "print(kelimeler)"
      ]
    },
    {
      "cell_type": "code",
      "execution_count": 4,
      "metadata": {
        "id": "bP4avA1i2Ndl",
        "outputId": "f22a33d3-4e5f-4b86-f233-875f9b08548b",
        "colab": {
          "base_uri": "https://localhost:8080/"
        }
      },
      "outputs": [
        {
          "output_type": "stream",
          "name": "stdout",
          "text": [
            "0\n",
            "1\n",
            "2\n",
            "3\n"
          ]
        }
      ],
      "source": [
        "for i in range(4):\n",
        "    print(i)"
      ]
    },
    {
      "cell_type": "code",
      "execution_count": 5,
      "metadata": {
        "id": "kM-ao2ux2Ndm",
        "outputId": "466e6f2a-6c2e-4ac6-d79e-a212e6ab7ad9",
        "colab": {
          "base_uri": "https://localhost:8080/"
        }
      },
      "outputs": [
        {
          "output_type": "stream",
          "name": "stdout",
          "text": [
            "1\n",
            "2\n",
            "hey\n",
            "x\n",
            "Test\n"
          ]
        }
      ],
      "source": [
        "for el in my_list:\n",
        "    print(el)"
      ]
    },
    {
      "cell_type": "code",
      "execution_count": 6,
      "metadata": {
        "id": "DDjbtu792Ndm",
        "outputId": "3e4cda17-403b-405b-a92e-d4c05992b8d7",
        "colab": {
          "base_uri": "https://localhost:8080/"
        }
      },
      "outputs": [
        {
          "output_type": "stream",
          "name": "stdout",
          "text": [
            "0 1\n",
            "1 2\n",
            "2 hey\n",
            "3 x\n",
            "4 Test\n"
          ]
        }
      ],
      "source": [
        "for i, el in enumerate(my_list):\n",
        "    print(i, el)"
      ]
    },
    {
      "cell_type": "code",
      "execution_count": 7,
      "metadata": {
        "id": "2jNurUbP2Ndm",
        "outputId": "6b202ef8-101a-483d-dfdf-ad7b37fcca43",
        "colab": {
          "base_uri": "https://localhost:8080/"
        }
      },
      "outputs": [
        {
          "output_type": "stream",
          "name": "stdout",
          "text": [
            "[0, 1, 4, 9, 16, 25, 36, 49, 64]\n"
          ]
        }
      ],
      "source": [
        "x = [a**2 for a in range(9)] # list comprehension\n",
        "print(x)"
      ]
    },
    {
      "cell_type": "code",
      "execution_count": 8,
      "metadata": {
        "id": "y4Z2oHHL2Ndm",
        "outputId": "b1f62f61-7016-4259-c6c8-d00f63e8fb7c",
        "colab": {
          "base_uri": "https://localhost:8080/"
        }
      },
      "outputs": [
        {
          "output_type": "stream",
          "name": "stdout",
          "text": [
            "[0, 4, 16, 36, 64]\n"
          ]
        }
      ],
      "source": [
        "even_x = [el for el in x if el % 2 == 0 ]\n",
        "print(even_x)"
      ]
    },
    {
      "cell_type": "code",
      "execution_count": 9,
      "metadata": {
        "id": "cAbH3aQa2Ndm",
        "outputId": "529032ac-a1b2-4f29-af84-f36e393596e8",
        "colab": {
          "base_uri": "https://localhost:8080/"
        }
      },
      "outputs": [
        {
          "output_type": "execute_result",
          "data": {
            "text/plain": [
              "16"
            ]
          },
          "metadata": {},
          "execution_count": 9
        }
      ],
      "source": [
        "even_x[2]"
      ]
    },
    {
      "cell_type": "code",
      "execution_count": null,
      "metadata": {
        "id": "reQ5k6YM2Ndn"
      },
      "outputs": [],
      "source": [
        "even_x[2:]"
      ]
    },
    {
      "cell_type": "code",
      "execution_count": null,
      "metadata": {
        "id": "P3afKoyt2Ndn"
      },
      "outputs": [],
      "source": [
        "even_x[-1]"
      ]
    },
    {
      "cell_type": "code",
      "execution_count": null,
      "metadata": {
        "id": "_RKKq6zU2Ndn"
      },
      "outputs": [],
      "source": [
        "even_x[:3]"
      ]
    },
    {
      "cell_type": "code",
      "execution_count": null,
      "metadata": {
        "id": "craqewg_2Ndn"
      },
      "outputs": [],
      "source": [
        "even_x[2:4]"
      ]
    },
    {
      "cell_type": "code",
      "execution_count": null,
      "metadata": {
        "id": "uH2g3P6q2Ndn"
      },
      "outputs": [],
      "source": [
        "even_x[-2:]"
      ]
    },
    {
      "cell_type": "code",
      "execution_count": null,
      "metadata": {
        "id": "Mqcg5kJH2Ndn"
      },
      "outputs": [],
      "source": [
        "def kare_topla(a, b):\n",
        "    a2 = a ** 2\n",
        "    b2 = b ** 2\n",
        "    return a2 + b2\n",
        "\n",
        "kt = kare_topla(3, 4)\n",
        "print(kt)"
      ]
    },
    {
      "cell_type": "code",
      "execution_count": 10,
      "metadata": {
        "id": "omk_VHcB2Ndn",
        "outputId": "d715fe87-031b-420d-fb46-f3b2a381d84e",
        "colab": {
          "base_uri": "https://localhost:8080/"
        }
      },
      "outputs": [
        {
          "output_type": "stream",
          "name": "stdout",
          "text": [
            "{'eder', 'kere', 'üç', 'dokuz'}\n"
          ]
        }
      ],
      "source": [
        "import re\n",
        "\n",
        "def tekrarsiz_kelimelere_ayir(s):\n",
        "    kelimeler = re.split(\" \", s)\n",
        "    return set(kelimeler)\n",
        "\n",
        "print(tekrarsiz_kelimelere_ayir(\"üç kere üç dokuz eder\"))"
      ]
    },
    {
      "cell_type": "code",
      "execution_count": null,
      "metadata": {
        "id": "go0bz8nm2Ndn"
      },
      "outputs": [],
      "source": [
        "my_dictionary = {} # dictionary\n",
        "my_dictionary[\"ali\"] = 3\n",
        "my_dictionary[\"veli\"] = 5\n",
        "my_dictionary[\"ayse\"] = [1, 2, 3]\n",
        "\n",
        "print(my_dictionary)"
      ]
    },
    {
      "cell_type": "code",
      "execution_count": null,
      "metadata": {
        "id": "xOVw4Ll-2Ndn"
      },
      "outputs": [],
      "source": [
        "for k, v in my_dictionary.items():\n",
        "    print(k, v)"
      ]
    },
    {
      "cell_type": "code",
      "execution_count": null,
      "metadata": {
        "id": "VqQnDl1O2Ndo"
      },
      "outputs": [],
      "source": [
        "for k in my_dictionary:\n",
        "    print(k, my_dictionary[k])"
      ]
    },
    {
      "cell_type": "code",
      "execution_count": null,
      "metadata": {
        "id": "upjexi6e2Ndo"
      },
      "outputs": [],
      "source": [
        "\"ali\" in my_dictionary"
      ]
    },
    {
      "cell_type": "code",
      "execution_count": null,
      "metadata": {
        "id": "k85-2OR-2Ndo"
      },
      "outputs": [],
      "source": [
        "\"xyz\" in my_dictionary"
      ]
    },
    {
      "cell_type": "code",
      "execution_count": 11,
      "metadata": {
        "id": "0MTTizzT2Ndo",
        "outputId": "bbc9ee16-2a7a-4047-a6d1-5981ceb9f38b",
        "colab": {
          "base_uri": "https://localhost:8080/"
        }
      },
      "outputs": [
        {
          "output_type": "execute_result",
          "data": {
            "text/plain": [
              "{'sen': 3, 'ben': 2, 'gelme': 1}"
            ]
          },
          "metadata": {},
          "execution_count": 11
        }
      ],
      "source": [
        "kelimeler = [\"sen\", \"sen\", \"ben\", \"sen\", \"ben\", \"gelme\"]    #sınavda çıkacak soru bir cümlede kelimeler kaç kere tekrar ediyor\n",
        "kelime_sayilari = {}\n",
        "\n",
        "for kelime in kelimeler:\n",
        "    if kelime in kelime_sayilari:\n",
        "        kelime_sayilari[kelime] += 1\n",
        "    else:\n",
        "        kelime_sayilari[kelime] = 1\n",
        "\n",
        "kelime_sayilari"
      ]
    },
    {
      "cell_type": "code",
      "execution_count": 12,
      "metadata": {
        "id": "HE7zyZ4m2Ndo"
      },
      "outputs": [],
      "source": [
        "l1, l2 = [1, 2, 3], [4, 5, 6]"
      ]
    },
    {
      "cell_type": "code",
      "execution_count": 24,
      "metadata": {
        "id": "6e0bHEkS2Ndo",
        "outputId": "ee6d9c01-cc7f-41f3-e254-2a2ce289f4db",
        "colab": {
          "base_uri": "https://localhost:8080/"
        }
      },
      "outputs": [
        {
          "output_type": "stream",
          "name": "stdout",
          "text": [
            "4\n",
            "14\n",
            "32\n"
          ]
        }
      ],
      "source": [
        "toplam = 0\n",
        "for i , z in zip(l1, l2):\n",
        "    toplam += i * z\n",
        "    print(toplam)"
      ]
    },
    {
      "cell_type": "code",
      "execution_count": 25,
      "metadata": {
        "id": "UmwLvFYB2Ndp"
      },
      "outputs": [],
      "source": [
        "import numpy as np"
      ]
    },
    {
      "cell_type": "code",
      "execution_count": 26,
      "metadata": {
        "id": "9RJkcv_v2Ndp",
        "outputId": "505735ca-1be6-44ce-b4ce-d61f7d5aa153",
        "colab": {
          "base_uri": "https://localhost:8080/"
        }
      },
      "outputs": [
        {
          "output_type": "execute_result",
          "data": {
            "text/plain": [
              "array([ 4, 10, 18])"
            ]
          },
          "metadata": {},
          "execution_count": 26
        }
      ],
      "source": [
        "l1 = np.array(l1)\n",
        "l2 = np.array(l2)\n",
        "\n",
        "l1 * l2"
      ]
    },
    {
      "cell_type": "code",
      "execution_count": 27,
      "metadata": {
        "id": "g6WRRm2K2Ndp",
        "outputId": "5dd65119-b45f-4084-bca2-a3c6bc0e6aa7",
        "colab": {
          "base_uri": "https://localhost:8080/"
        }
      },
      "outputs": [
        {
          "output_type": "execute_result",
          "data": {
            "text/plain": [
              "32"
            ]
          },
          "metadata": {},
          "execution_count": 27
        }
      ],
      "source": [
        "np.dot(l1, l2)"
      ]
    },
    {
      "cell_type": "code",
      "execution_count": 28,
      "metadata": {
        "id": "_cbtij4S2Ndp",
        "outputId": "90298952-1eea-499e-c06c-1021f338fb4c",
        "colab": {
          "base_uri": "https://localhost:8080/"
        }
      },
      "outputs": [
        {
          "output_type": "execute_result",
          "data": {
            "text/plain": [
              "3"
            ]
          },
          "metadata": {},
          "execution_count": 28
        }
      ],
      "source": [
        "np.max(l1)"
      ]
    },
    {
      "cell_type": "code",
      "execution_count": 29,
      "metadata": {
        "id": "mZriqLAs2Ndp",
        "outputId": "707b08d3-79b2-4be5-ea52-40261589bd53",
        "colab": {
          "base_uri": "https://localhost:8080/"
        }
      },
      "outputs": [
        {
          "output_type": "execute_result",
          "data": {
            "text/plain": [
              "2"
            ]
          },
          "metadata": {},
          "execution_count": 29
        }
      ],
      "source": [
        "l3 = np.array([1, 8, 9, 6, 3])\n",
        "np.argmax(l3)"
      ]
    },
    {
      "cell_type": "code",
      "execution_count": 30,
      "metadata": {
        "id": "U32d74sW2Ndp",
        "outputId": "30b7c37a-e468-4c05-d703-6ce638f5d8cb",
        "colab": {
          "base_uri": "https://localhost:8080/"
        }
      },
      "outputs": [
        {
          "output_type": "execute_result",
          "data": {
            "text/plain": [
              "array([[0., 0., 0.],\n",
              "       [0., 0., 0.]])"
            ]
          },
          "metadata": {},
          "execution_count": 30
        }
      ],
      "source": [
        "np.zeros((2, 3))"
      ]
    },
    {
      "cell_type": "code",
      "execution_count": 31,
      "metadata": {
        "id": "rZo7uyT12Ndp",
        "outputId": "9094e3e4-130c-4634-e1d7-71026d0de46d",
        "colab": {
          "base_uri": "https://localhost:8080/"
        }
      },
      "outputs": [
        {
          "output_type": "execute_result",
          "data": {
            "text/plain": [
              "array([[1., 1., 1., 1.],\n",
              "       [1., 1., 1., 1.],\n",
              "       [1., 1., 1., 1.]])"
            ]
          },
          "metadata": {},
          "execution_count": 31
        }
      ],
      "source": [
        "np.ones((3, 4))   #bu da birlerden oluşan matrix döner"
      ]
    },
    {
      "cell_type": "code",
      "execution_count": 32,
      "metadata": {
        "id": "PST33uFS2Ndp",
        "outputId": "079c078b-50b1-4597-daa5-00355247080e",
        "colab": {
          "base_uri": "https://localhost:8080/"
        }
      },
      "outputs": [
        {
          "output_type": "execute_result",
          "data": {
            "text/plain": [
              "array([ 0,  1,  2,  3,  4,  5,  6,  7,  8,  9, 10, 11, 12, 13, 14])"
            ]
          },
          "metadata": {},
          "execution_count": 32
        }
      ],
      "source": [
        "l4 = np.array([x for x in range(15)])    #belirli sayıya kadar array yazabilmek için\n",
        "l4"
      ]
    },
    {
      "cell_type": "code",
      "execution_count": 33,
      "metadata": {
        "id": "1BoP9gkB2Ndq",
        "outputId": "1c06ab2c-4e47-4e8f-a38b-67b3d1cd04a9",
        "colab": {
          "base_uri": "https://localhost:8080/"
        }
      },
      "outputs": [
        {
          "output_type": "execute_result",
          "data": {
            "text/plain": [
              "array([[ 0,  1,  2,  3,  4],\n",
              "       [ 5,  6,  7,  8,  9],\n",
              "       [10, 11, 12, 13, 14]])"
            ]
          },
          "metadata": {},
          "execution_count": 33
        }
      ],
      "source": [
        "l4.reshape((3, 5))   #düz olanı matrix yapıyor"
      ]
    },
    {
      "cell_type": "code",
      "execution_count": 34,
      "metadata": {
        "id": "S795TDxW2Ndq",
        "outputId": "95f4bcf1-5e6d-47d1-c27e-af510ecdcc62",
        "colab": {
          "base_uri": "https://localhost:8080/"
        }
      },
      "outputs": [
        {
          "output_type": "execute_result",
          "data": {
            "text/plain": [
              "array([ 0,  1,  2,  3,  4,  5,  6,  7,  8,  9, 10, 11, 12, 13, 14])"
            ]
          },
          "metadata": {},
          "execution_count": 34
        }
      ],
      "source": [
        "l4"
      ]
    },
    {
      "cell_type": "code",
      "execution_count": 35,
      "metadata": {
        "id": "foW6e6rm2Ndq",
        "outputId": "efe54467-fe25-4d88-a9af-1c93d67b2729",
        "colab": {
          "base_uri": "https://localhost:8080/"
        }
      },
      "outputs": [
        {
          "output_type": "stream",
          "name": "stdout",
          "text": [
            "[[ 0  1  2]\n",
            " [ 3  4  5]\n",
            " [ 6  7  8]\n",
            " [ 9 10 11]\n",
            " [12 13 14]]\n"
          ]
        }
      ],
      "source": [
        "mat = l4.reshape((5, -1))    #5 satır ve kaç elemandan oluşuyorsa o kdr sütun ekle demektir -1\n",
        "print(mat)"
      ]
    },
    {
      "cell_type": "code",
      "execution_count": 37,
      "metadata": {
        "id": "idlJPt-52Ndq",
        "outputId": "d90ae95b-94f6-4a2d-c97b-91e9523246b4",
        "colab": {
          "base_uri": "https://localhost:8080/"
        }
      },
      "outputs": [
        {
          "output_type": "execute_result",
          "data": {
            "text/plain": [
              "(5, 3)"
            ]
          },
          "metadata": {},
          "execution_count": 37
        }
      ],
      "source": [
        "mat.shape   #kaç sütun ve satırdan oluşuyor"
      ]
    },
    {
      "cell_type": "code",
      "execution_count": 46,
      "metadata": {
        "id": "6AFzy4Ln2Ndq",
        "outputId": "9cca0eec-2ec9-4992-9137-c078241b6139",
        "colab": {
          "base_uri": "https://localhost:8080/"
        }
      },
      "outputs": [
        {
          "output_type": "stream",
          "name": "stdout",
          "text": [
            "--2024-11-23 07:29:01--  https://raw.githubusercontent.com/ihpar/ddi/main/cities.csv\n",
            "Resolving raw.githubusercontent.com (raw.githubusercontent.com)... 185.199.108.133, 185.199.109.133, 185.199.110.133, ...\n",
            "Connecting to raw.githubusercontent.com (raw.githubusercontent.com)|185.199.108.133|:443... connected.\n",
            "HTTP request sent, awaiting response... 404 Not Found\n",
            "2024-11-23 07:29:01 ERROR 404: Not Found.\n",
            "\n"
          ]
        }
      ],
      "source": [
        "!wget https://raw.githubusercontent.com/ihpar/ddi/main/cities.csv"
      ]
    },
    {
      "cell_type": "code",
      "execution_count": 42,
      "metadata": {
        "id": "Itb1Xlxh2Ndr"
      },
      "outputs": [],
      "source": [
        "import pandas as pd"
      ]
    },
    {
      "cell_type": "code",
      "execution_count": 50,
      "metadata": {
        "id": "aHdP5wzw2Ndx"
      },
      "outputs": [],
      "source": [
        "df = pd.read_csv(\"cities.csv\")"
      ]
    },
    {
      "cell_type": "code",
      "execution_count": 51,
      "metadata": {
        "id": "Ms76fJYs2Ndy"
      },
      "outputs": [],
      "source": [
        "df.head()  # ilk beş satırını döndürür"
      ]
    },
    {
      "cell_type": "code",
      "execution_count": null,
      "metadata": {
        "id": "PW7LEOrn2Ndy"
      },
      "outputs": [],
      "source": [
        "df.tail()  # son 5 satırını döndürür"
      ]
    },
    {
      "cell_type": "code",
      "execution_count": null,
      "metadata": {
        "id": "UIUnA9gb2Ndy"
      },
      "outputs": [],
      "source": [
        "df.size  # eleman sayısı satır * sütun döndürür"
      ]
    },
    {
      "cell_type": "code",
      "execution_count": null,
      "metadata": {
        "id": "LpVu6tLi2Ndy"
      },
      "outputs": [],
      "source": [
        "len(df)  # sadece satır sayısını döndürür sütun sayısını döndürmez"
      ]
    },
    {
      "cell_type": "code",
      "execution_count": null,
      "metadata": {
        "id": "PdiPxbeM2Ndy"
      },
      "outputs": [],
      "source": [
        "df.shape # bir tuple (demet) döndürür: (satır_sayısı, sütun_sayısı)"
      ]
    },
    {
      "cell_type": "code",
      "execution_count": null,
      "metadata": {
        "id": "KOxlcDWW2Ndy"
      },
      "outputs": [],
      "source": [
        "df.iloc[3]# sıfır tabanlı indeksleme ile 4.satır döner"
      ]
    },
    {
      "cell_type": "code",
      "execution_count": null,
      "metadata": {
        "id": "FbgkAT752Ndy"
      },
      "outputs": [],
      "source": [
        "df.columns"
      ]
    },
    {
      "cell_type": "code",
      "execution_count": null,
      "metadata": {
        "id": "cn7mshEd2Ndy"
      },
      "outputs": [],
      "source": [
        "latD40 = df[df[\"LatD\"] == 40]\n",
        "\"\"\"\n",
        "df[\"LatD\"]: DataFrame'in \"LatD\" adlı sütununu seçer.\n",
        "df[\"LatD\"] == 40: Bu, \"LatD\" sütunundaki tüm değerlerin 40 olup olmadığını kontrol eder. Sonuç, True/False değerlerinden oluşan bir boolean seri olur.\n",
        "df[...]: Koşulu karşılayan satırları seçmek için kullanılır.\n",
        "latD40: Koşulu karşılayan satırların bulunduğu yeni bir DataFrame'dir.\n",
        "\"\"\""
      ]
    },
    {
      "cell_type": "code",
      "execution_count": null,
      "metadata": {
        "id": "7gqoT3rX2Ndy"
      },
      "outputs": [],
      "source": [
        "latD40.head()"
      ]
    },
    {
      "cell_type": "code",
      "execution_count": null,
      "metadata": {
        "id": "MUxFbpvh2Ndy"
      },
      "outputs": [],
      "source": [
        "df.hist(\"LatD\")\n",
        "\"\"\"\n",
        "df.hist(\"LatD\"), \"LatD\" sütunundaki verilerin dağılımını bir histogram ile görselleştirir.\n",
        "Histogramın Çıktısı:\n",
        "Yatay eksen (x-axis): \"LatD\" sütunundaki değer aralıklarını temsil eder.\n",
        "Dikey eksen (y-axis): Her aralıkta kaç tane değer olduğunu gösterir (frekans).\n",
        "\"\"\""
      ]
    }
  ],
  "metadata": {
    "kernelspec": {
      "display_name": "Python 3.9.13 ('tfnew')",
      "language": "python",
      "name": "python3"
    },
    "language_info": {
      "codemirror_mode": {
        "name": "ipython",
        "version": 3
      },
      "file_extension": ".py",
      "mimetype": "text/x-python",
      "name": "python",
      "nbconvert_exporter": "python",
      "pygments_lexer": "ipython3",
      "version": "3.9.13"
    },
    "orig_nbformat": 4,
    "vscode": {
      "interpreter": {
        "hash": "93a508892ad0418bbbef2f3796edd4c06527622cb95cdcc5e9525e8332085ac2"
      }
    },
    "colab": {
      "provenance": []
    }
  },
  "nbformat": 4,
  "nbformat_minor": 0
}